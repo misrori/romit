{
  "nbformat": 4,
  "nbformat_minor": 0,
  "metadata": {
    "colab": {
      "provenance": [],
      "authorship_tag": "ABX9TyMcB0DJ4HkxN+rzWxoUmmrx",
      "include_colab_link": true
    },
    "kernelspec": {
      "name": "python3",
      "display_name": "Python 3"
    },
    "language_info": {
      "name": "python"
    }
  },
  "cells": [
    {
      "cell_type": "markdown",
      "metadata": {
        "id": "view-in-github",
        "colab_type": "text"
      },
      "source": [
        "<a href=\"https://colab.research.google.com/github/misrori/romit/blob/2024/session1.ipynb\" target=\"_parent\"><img src=\"https://colab.research.google.com/assets/colab-badge.svg\" alt=\"Open In Colab\"/></a>"
      ]
    },
    {
      "cell_type": "markdown",
      "source": [
        "Basic Math"
      ],
      "metadata": {
        "id": "QcNb08cFD5BT"
      }
    },
    {
      "cell_type": "code",
      "execution_count": 1,
      "metadata": {
        "colab": {
          "base_uri": "https://localhost:8080/"
        },
        "id": "Jg8Xx7EXD3CK",
        "outputId": "bba4df90-c1c1-44b0-bc9e-3d1cf2a1eb61"
      },
      "outputs": [
        {
          "output_type": "execute_result",
          "data": {
            "text/plain": [
              "8"
            ]
          },
          "metadata": {},
          "execution_count": 1
        }
      ],
      "source": [
        "10 + 5\n",
        "15 - 8\n",
        "4 * 6\n",
        "12 / 3\n",
        "17 // 4\n",
        "19 % 7\n",
        "2 ** 3"
      ]
    },
    {
      "cell_type": "markdown",
      "source": [
        "More Math"
      ],
      "metadata": {
        "id": "W3tE7dhZEnJf"
      }
    },
    {
      "cell_type": "code",
      "source": [
        "import math\n",
        "\n",
        "math.fabs(-5.2)\n",
        "math.sqrt(25)\n",
        "math.sin(math.pi / 2)\n",
        "math.log10(100)\n",
        "\n",
        "(5 + 2) * 3 - 4\n"
      ],
      "metadata": {
        "colab": {
          "base_uri": "https://localhost:8080/"
        },
        "id": "dWsTJCbeEM80",
        "outputId": "8675ce6f-256d-4dfb-9138-955eb83171b7"
      },
      "execution_count": 4,
      "outputs": [
        {
          "output_type": "execute_result",
          "data": {
            "text/plain": [
              "17"
            ]
          },
          "metadata": {},
          "execution_count": 4
        }
      ]
    },
    {
      "cell_type": "markdown",
      "source": [
        "# String"
      ],
      "metadata": {
        "id": "gyGjBc51Et-w"
      }
    },
    {
      "cell_type": "code",
      "source": [
        "\"hello\"\n",
        "print('Hello CEU')\n",
        "print(\"hello CEU\")\n",
        "print(\"Hello\"+ \"CEU\")"
      ],
      "metadata": {
        "colab": {
          "base_uri": "https://localhost:8080/"
        },
        "id": "_NV7tIEAEVXk",
        "outputId": "b7248aee-278d-4109-bf2b-b55727e32d09"
      },
      "execution_count": 6,
      "outputs": [
        {
          "output_type": "stream",
          "name": "stdout",
          "text": [
            "Hello CEU\n",
            "hello CEU\n",
            "HelloCEU\n"
          ]
        }
      ]
    },
    {
      "cell_type": "markdown",
      "source": [
        "# Most common data types"
      ],
      "metadata": {
        "id": "wAukkGo0FM9Q"
      }
    },
    {
      "cell_type": "code",
      "source": [
        "4 #integer\n",
        "\"ceu\" # string\n",
        "ceu = 2 # ceu is a variable that has a value of 2 integer\n",
        "ceu # variable\n",
        "my_boolean = True\n",
        "\n",
        "[1, 3, 5, 'dsf'] # list\n",
        "{\"first\": 1, \"second\":2 } # dictionary"
      ],
      "metadata": {
        "colab": {
          "base_uri": "https://localhost:8080/"
        },
        "id": "jrrVcpfXFSiR",
        "outputId": "73682ac9-df43-4858-cca2-ce68124a19f7"
      },
      "execution_count": 8,
      "outputs": [
        {
          "output_type": "execute_result",
          "data": {
            "text/plain": [
              "[1, 3, 5, 'dsf']"
            ]
          },
          "metadata": {},
          "execution_count": 8
        }
      ]
    },
    {
      "cell_type": "markdown",
      "source": [
        "# F string"
      ],
      "metadata": {
        "id": "qreE6QtpFCt6"
      }
    },
    {
      "cell_type": "code",
      "source": [
        "my_name = 'Misi'\n",
        "print('Hello my name is ' + my_name)\n",
        "\n",
        "number_of_bike = 2\n",
        "# print('I have '+ number_of_bike + \" bike\")\n",
        "\n",
        "number_of_bike = 2\n",
        "print(f'I have {number_of_bike} bike')\n"
      ],
      "metadata": {
        "colab": {
          "base_uri": "https://localhost:8080/"
        },
        "id": "SzvBPsPLE8dp",
        "outputId": "58059121-603b-441c-b59a-8e1c4772470a"
      },
      "execution_count": 14,
      "outputs": [
        {
          "output_type": "stream",
          "name": "stdout",
          "text": [
            "Hello my name is Misi\n",
            "I have 2 bike\n"
          ]
        }
      ]
    },
    {
      "cell_type": "markdown",
      "source": [
        "# Input"
      ],
      "metadata": {
        "id": "QiEx3dT1G_ns"
      }
    },
    {
      "cell_type": "code",
      "source": [
        "input()"
      ],
      "metadata": {
        "colab": {
          "base_uri": "https://localhost:8080/",
          "height": 52
        },
        "id": "9z4txgvCGjXo",
        "outputId": "958fae9d-0f95-4cfa-b390-d366fa3b268f"
      },
      "execution_count": 15,
      "outputs": [
        {
          "name": "stdout",
          "output_type": "stream",
          "text": [
            "asf\n"
          ]
        },
        {
          "output_type": "execute_result",
          "data": {
            "text/plain": [
              "'asf'"
            ],
            "application/vnd.google.colaboratory.intrinsic+json": {
              "type": "string"
            }
          },
          "metadata": {},
          "execution_count": 15
        }
      ]
    },
    {
      "cell_type": "code",
      "source": [
        "input('what is your name?')"
      ],
      "metadata": {
        "colab": {
          "base_uri": "https://localhost:8080/",
          "height": 52
        },
        "id": "wKAV0bdZHDhy",
        "outputId": "be816680-b03b-4fe8-cc6d-3bb32cefe4c2"
      },
      "execution_count": 16,
      "outputs": [
        {
          "name": "stdout",
          "output_type": "stream",
          "text": [
            "what is your name?Misi\n"
          ]
        },
        {
          "output_type": "execute_result",
          "data": {
            "text/plain": [
              "'Misi'"
            ],
            "application/vnd.google.colaboratory.intrinsic+json": {
              "type": "string"
            }
          },
          "metadata": {},
          "execution_count": 16
        }
      ]
    },
    {
      "cell_type": "code",
      "source": [
        "your_name = input('What is your name? ')\n",
        "\n"
      ],
      "metadata": {
        "colab": {
          "base_uri": "https://localhost:8080/"
        },
        "id": "_HfIMHZlHIYj",
        "outputId": "17b170c2-63fc-41ec-91b8-46b3c3c686c1"
      },
      "execution_count": 17,
      "outputs": [
        {
          "name": "stdout",
          "output_type": "stream",
          "text": [
            "What is your name? Misi\n"
          ]
        }
      ]
    },
    {
      "cell_type": "code",
      "source": [
        "your_name = input('What is your name? ')\n",
        "print(f'Hello my friend {your_name}')"
      ],
      "metadata": {
        "colab": {
          "base_uri": "https://localhost:8080/"
        },
        "id": "Hl1l1CtbHRPc",
        "outputId": "cb8e40e6-ddb3-4f26-9f73-95a56a404f33"
      },
      "execution_count": 18,
      "outputs": [
        {
          "output_type": "stream",
          "name": "stdout",
          "text": [
            "What is your name? Misi\n",
            "hello my friendMisi\n"
          ]
        }
      ]
    },
    {
      "cell_type": "markdown",
      "source": [
        "# Task 1: BMI calculator\n",
        "![image.png](data:image/png;base64,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)"
      ],
      "metadata": {
        "id": "9zvZvjPJN_WD"
      }
    },
    {
      "cell_type": "code",
      "source": [
        "a = \"6\"\n",
        "print(type(a))\n",
        "\n",
        "b = int(a)\n",
        "print(type(b))\n",
        "\n",
        "# a+6\n",
        "b+6\n",
        "\n",
        "print(int(5.2))\n",
        "print(float(5.2))"
      ],
      "metadata": {
        "colab": {
          "base_uri": "https://localhost:8080/"
        },
        "id": "dbsCkQqEOLWA",
        "outputId": "85876368-a39f-42a0-d622-48d4de3f48d4"
      },
      "execution_count": 25,
      "outputs": [
        {
          "output_type": "stream",
          "name": "stdout",
          "text": [
            "<class 'str'>\n",
            "<class 'int'>\n",
            "5\n",
            "5.2\n"
          ]
        }
      ]
    },
    {
      "cell_type": "code",
      "source": [
        "height = input(\"What is your height in cm? \")\n",
        "print(str(height ))\n",
        "print(type(height ))"
      ],
      "metadata": {
        "id": "ROtCROC0HZvP"
      },
      "execution_count": null,
      "outputs": []
    },
    {
      "cell_type": "markdown",
      "source": [
        "# Task 2: Sum a 3 digit numbers digit from input"
      ],
      "metadata": {
        "id": "JOQBfM6nSYRy"
      }
    },
    {
      "cell_type": "code",
      "source": [
        "my_text = 'fsdf'\n",
        "my_text[0]"
      ],
      "metadata": {
        "colab": {
          "base_uri": "https://localhost:8080/",
          "height": 35
        },
        "id": "70caGqVfSXAC",
        "outputId": "0d54b744-b118-4892-a7ec-2233664289b2"
      },
      "execution_count": 26,
      "outputs": [
        {
          "output_type": "execute_result",
          "data": {
            "text/plain": [
              "'f'"
            ],
            "application/vnd.google.colaboratory.intrinsic+json": {
              "type": "string"
            }
          },
          "metadata": {},
          "execution_count": 26
        }
      ]
    },
    {
      "cell_type": "code",
      "source": [],
      "metadata": {
        "id": "XahEKYktSuhe"
      },
      "execution_count": null,
      "outputs": []
    }
  ]
}